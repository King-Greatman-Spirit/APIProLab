{
 "cells": [
  {
   "cell_type": "markdown",
   "id": "dc137786",
   "metadata": {},
   "source": [
    "API allows multiple aplications to communicates with one another. It allows you to View, Create, Update & Delete Data (C.R.U.D)"
   ]
  },
  {
   "cell_type": "code",
   "execution_count": null,
   "id": "5049eab4",
   "metadata": {},
   "outputs": [],
   "source": [
    "Requirements:\n",
    "python 3 (and above)\n",
    "python3 venv .venv # create a virtual environemnt\n",
    " . .venv/Script/activate\n",
    " source venv/Scripts/activate  # activate for windows users\n",
    " \n",
    "django # install dependencies\n",
    "djangorestframework\n",
    "requests\n",
    "\n",
    "django-admin # shows useful commands yo can use in django"
   ]
  },
  {
   "cell_type": "code",
   "execution_count": null,
   "id": "c04a2b97",
   "metadata": {},
   "outputs": [],
   "source": [
    "Comands needed:\n",
    "mkdir DRINKS\n",
    "cd DRINKS\n",
    "python3 venv .venv # create a virtual environemnt\n",
    " . .venv/Script.activate\n",
    " source venv/Scripts/activate  # activate for windows users\n",
    "\n",
    "django-admin startproject drinks. # creating a drink application using django\n",
    "python manage.py runserver\n",
    "python manage.py makemigrations\n",
    "python manage.py migrate\n",
    "python manage.py createsuperuser"
   ]
  },
  {
   "cell_type": "code",
   "execution_count": null,
   "id": "254fbe63",
   "metadata": {},
   "outputs": [],
   "source": [
    "# drinks/models.py\n",
    "from django.db import models\n",
    "\n",
    "class Drink(models.Model):\n",
    "    name = models.CharField(max_length=200)\n",
    "    description = models.CharField(max_length=500)\n",
    "    \n",
    "    def __str__(self):\n",
    "        return self.name + ' ' + self.description\n",
    "    \n",
    "    "
   ]
  },
  {
   "cell_type": "code",
   "execution_count": null,
   "id": "4fe789ee",
   "metadata": {},
   "outputs": [],
   "source": [
    "# drinks/settings.py\n",
    "INSTALLED_APPS = [\n",
    "    'rest_framework',\n",
    "    'drinks',\n",
    "]\n",
    "# then run,\n",
    "python manage.py makemigrations\n",
    "python manage.py migrate"
   ]
  },
  {
   "cell_type": "code",
   "execution_count": null,
   "id": "dffbd060",
   "metadata": {},
   "outputs": [],
   "source": [
    "# drinks/admin.py\n",
    "from django.contrib import admin\n",
    "from .models import Drink\n",
    "\n",
    "admin.site.register(Drink)\n",
    "\n",
    "# add data of drinks (name, description in the django admin)"
   ]
  },
  {
   "cell_type": "code",
   "execution_count": null,
   "id": "9c9ed352",
   "metadata": {},
   "outputs": [],
   "source": [
    "# drinks/serializers.py\n",
    "from rest_framework import serializers\n",
    "from .models import Drink\n",
    "\n",
    "class DrinkSerializer(serializers.ModelSerializer):\n",
    "    class Meta:\n",
    "        model = Drink\n",
    "        fields = ['id', 'name', 'description']\n",
    "        "
   ]
  },
  {
   "cell_type": "code",
   "execution_count": null,
   "id": "b1fbea07",
   "metadata": {},
   "outputs": [],
   "source": [
    "# drinks/views.py\n",
    "from django.http import JsonResponse\n",
    "from .models import Drink\n",
    "from .serializers import DrinkSerializer\n",
    "from rest_framework.decorators import api_view\n",
    "from rest_framework.response import Response\n",
    "from rest_framework import status\n",
    "\n",
    "@api_view(['GET', 'POST'])\n",
    "def drink_list(request, format=None):\n",
    "    \n",
    "    if request.method == 'GET':\n",
    "        #get all the drinks\n",
    "        drinks = Drink.objects.all()\n",
    "        #serialize them\n",
    "        serializer = DrinkSerializer(drinks, many=True)\n",
    "        #return json\n",
    "        return JsonResponse(serializer.data)\n",
    "    \n",
    "    if request.method == 'POST':\n",
    "        serializer = DrinkSerializer(data=request.data)\n",
    "        if serializer.is_valid():\n",
    "            serializer.save()\n",
    "            return Response(serializer.data, status=status.HTTP_201_CREATED)\n",
    "        \n",
    "@api_view(['GET', 'PUT', 'DELETE'])\n",
    "def drink_detail(request, format=None):\n",
    "    \n",
    "    try:\n",
    "        drink = Drink.objects.get(pk=id)\n",
    "    except Drink.DoesNotExist:\n",
    "        return Response(status=status.HTTP_404_NOT_FOUND)\n",
    "    \n",
    "    if request.method == 'GET':\n",
    "        serializer = DrinkSerializer(drink) \n",
    "        return Response(Serializer.data)\n",
    "    \n",
    "    elif request.method == 'PUT':\n",
    "        serializer = DrinkSerializer(drink, data=request.data)\n",
    "        if serializer.is_valid():\n",
    "            serializer.save()\n",
    "            return Response(serializer.data)\n",
    "        return Response(serializer.errors, status=status.HTTP_400_BAD_REQUEST)\n",
    "    \n",
    "    elif request.method == 'DELETE':\n",
    "        drink.delete()\n",
    "        return Response(status=status.HTTP_204_NO_CONTENT)\n",
    "    \n",
    "    "
   ]
  },
  {
   "cell_type": "code",
   "execution_count": null,
   "id": "bdab3327",
   "metadata": {},
   "outputs": [],
   "source": [
    "# drinks/urls.py\n",
    "from django.contrib import admin\n",
    "from django.urls import path\n",
    "from drinks import views\n",
    "from rest_framework.urlpatterns import format_suffix_patterns\n",
    "\n",
    "urlpatterns = [\n",
    "    path('ádmin/', admin.site.urls),\n",
    "    path('drinks/', views.drink_list),\n",
    "    path('drinks/<int:id>', views.drink_detail),\n",
    "]\n",
    "\n",
    "urlpatterns = format_suffix_patterns(urlpatterns)"
   ]
  },
  {
   "cell_type": "code",
   "execution_count": null,
   "id": "311c3757",
   "metadata": {},
   "outputs": [],
   "source": [
    "# consume.py\n",
    "import requests\n",
    "\n",
    "response = requests.get('http://127.0.0.1:8000/drinks')\n",
    "print(response.json())"
   ]
  },
  {
   "cell_type": "code",
   "execution_count": 5,
   "id": "9f223532",
   "metadata": {},
   "outputs": [
    {
     "name": "stdout",
     "output_type": "stream",
     "text": [
      "3\n",
      "36\n"
     ]
    }
   ],
   "source": []
  },
  {
   "cell_type": "code",
   "execution_count": null,
   "id": "ede3c75f",
   "metadata": {},
   "outputs": [],
   "source": [
    "f"
   ]
  }
 ],
 "metadata": {
  "kernelspec": {
   "display_name": "Python 3 (ipykernel)",
   "language": "python",
   "name": "python3"
  },
  "language_info": {
   "codemirror_mode": {
    "name": "ipython",
    "version": 3
   },
   "file_extension": ".py",
   "mimetype": "text/x-python",
   "name": "python",
   "nbconvert_exporter": "python",
   "pygments_lexer": "ipython3",
   "version": "3.11.4"
  }
 },
 "nbformat": 4,
 "nbformat_minor": 5
}
